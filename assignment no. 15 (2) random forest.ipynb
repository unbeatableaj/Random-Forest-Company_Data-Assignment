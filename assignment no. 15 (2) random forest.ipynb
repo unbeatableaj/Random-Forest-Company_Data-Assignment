{
 "cells": [
  {
   "cell_type": "code",
   "execution_count": 219,
   "id": "29a0cfe0",
   "metadata": {
    "ExecuteTime": {
     "end_time": "2023-03-14T08:53:44.375041Z",
     "start_time": "2023-03-14T08:53:44.364197Z"
    }
   },
   "outputs": [],
   "source": [
    "import pandas as pd \n",
    "import numpy as np\n",
    "import seaborn as sns\n",
    "import matplotlib.pyplot as plt\n",
    "%matplotlib inline\n",
    "from sklearn.model_selection import KFold,cross_val_score\n",
    "from sklearn.ensemble import BaggingClassifier,AdaBoostClassifier,VotingClassifier,RandomForestClassifier,GradientBoostingClassifier\n",
    "from sklearn.linear_model import LogisticRegression\n",
    "from sklearn.tree import DecisionTreeClassifier\n",
    "from sklearn.svm import SVC\n",
    "from sklearn.preprocessing import LabelEncoder,MinMaxScaler\n",
    "from sklearn.model_selection import train_test_split\n",
    "from sklearn.metrics import classification_report\n",
    "import warnings\n",
    "warnings.filterwarnings('ignore')"
   ]
  },
  {
   "cell_type": "code",
   "execution_count": 220,
   "id": "69fdd785",
   "metadata": {
    "ExecuteTime": {
     "end_time": "2023-03-14T08:53:44.391089Z",
     "start_time": "2023-03-14T08:53:44.375041Z"
    }
   },
   "outputs": [],
   "source": [
    "company=pd.read_csv(r\"C:\\Users\\AJAY\\Downloads\\Company_Data.csv\")"
   ]
  },
  {
   "cell_type": "code",
   "execution_count": 221,
   "id": "c4dc280e",
   "metadata": {
    "ExecuteTime": {
     "end_time": "2023-03-14T08:53:44.415163Z",
     "start_time": "2023-03-14T08:53:44.391089Z"
    }
   },
   "outputs": [
    {
     "data": {
      "text/html": [
       "<div>\n",
       "<style scoped>\n",
       "    .dataframe tbody tr th:only-of-type {\n",
       "        vertical-align: middle;\n",
       "    }\n",
       "\n",
       "    .dataframe tbody tr th {\n",
       "        vertical-align: top;\n",
       "    }\n",
       "\n",
       "    .dataframe thead th {\n",
       "        text-align: right;\n",
       "    }\n",
       "</style>\n",
       "<table border=\"1\" class=\"dataframe\">\n",
       "  <thead>\n",
       "    <tr style=\"text-align: right;\">\n",
       "      <th></th>\n",
       "      <th>Sales</th>\n",
       "      <th>CompPrice</th>\n",
       "      <th>Income</th>\n",
       "      <th>Advertising</th>\n",
       "      <th>Population</th>\n",
       "      <th>Price</th>\n",
       "      <th>ShelveLoc</th>\n",
       "      <th>Age</th>\n",
       "      <th>Education</th>\n",
       "      <th>Urban</th>\n",
       "      <th>US</th>\n",
       "    </tr>\n",
       "  </thead>\n",
       "  <tbody>\n",
       "    <tr>\n",
       "      <th>0</th>\n",
       "      <td>9.50</td>\n",
       "      <td>138</td>\n",
       "      <td>73</td>\n",
       "      <td>11</td>\n",
       "      <td>276</td>\n",
       "      <td>120</td>\n",
       "      <td>Bad</td>\n",
       "      <td>42</td>\n",
       "      <td>17</td>\n",
       "      <td>Yes</td>\n",
       "      <td>Yes</td>\n",
       "    </tr>\n",
       "    <tr>\n",
       "      <th>1</th>\n",
       "      <td>11.22</td>\n",
       "      <td>111</td>\n",
       "      <td>48</td>\n",
       "      <td>16</td>\n",
       "      <td>260</td>\n",
       "      <td>83</td>\n",
       "      <td>Good</td>\n",
       "      <td>65</td>\n",
       "      <td>10</td>\n",
       "      <td>Yes</td>\n",
       "      <td>Yes</td>\n",
       "    </tr>\n",
       "    <tr>\n",
       "      <th>2</th>\n",
       "      <td>10.06</td>\n",
       "      <td>113</td>\n",
       "      <td>35</td>\n",
       "      <td>10</td>\n",
       "      <td>269</td>\n",
       "      <td>80</td>\n",
       "      <td>Medium</td>\n",
       "      <td>59</td>\n",
       "      <td>12</td>\n",
       "      <td>Yes</td>\n",
       "      <td>Yes</td>\n",
       "    </tr>\n",
       "    <tr>\n",
       "      <th>3</th>\n",
       "      <td>7.40</td>\n",
       "      <td>117</td>\n",
       "      <td>100</td>\n",
       "      <td>4</td>\n",
       "      <td>466</td>\n",
       "      <td>97</td>\n",
       "      <td>Medium</td>\n",
       "      <td>55</td>\n",
       "      <td>14</td>\n",
       "      <td>Yes</td>\n",
       "      <td>Yes</td>\n",
       "    </tr>\n",
       "    <tr>\n",
       "      <th>4</th>\n",
       "      <td>4.15</td>\n",
       "      <td>141</td>\n",
       "      <td>64</td>\n",
       "      <td>3</td>\n",
       "      <td>340</td>\n",
       "      <td>128</td>\n",
       "      <td>Bad</td>\n",
       "      <td>38</td>\n",
       "      <td>13</td>\n",
       "      <td>Yes</td>\n",
       "      <td>No</td>\n",
       "    </tr>\n",
       "    <tr>\n",
       "      <th>...</th>\n",
       "      <td>...</td>\n",
       "      <td>...</td>\n",
       "      <td>...</td>\n",
       "      <td>...</td>\n",
       "      <td>...</td>\n",
       "      <td>...</td>\n",
       "      <td>...</td>\n",
       "      <td>...</td>\n",
       "      <td>...</td>\n",
       "      <td>...</td>\n",
       "      <td>...</td>\n",
       "    </tr>\n",
       "    <tr>\n",
       "      <th>395</th>\n",
       "      <td>12.57</td>\n",
       "      <td>138</td>\n",
       "      <td>108</td>\n",
       "      <td>17</td>\n",
       "      <td>203</td>\n",
       "      <td>128</td>\n",
       "      <td>Good</td>\n",
       "      <td>33</td>\n",
       "      <td>14</td>\n",
       "      <td>Yes</td>\n",
       "      <td>Yes</td>\n",
       "    </tr>\n",
       "    <tr>\n",
       "      <th>396</th>\n",
       "      <td>6.14</td>\n",
       "      <td>139</td>\n",
       "      <td>23</td>\n",
       "      <td>3</td>\n",
       "      <td>37</td>\n",
       "      <td>120</td>\n",
       "      <td>Medium</td>\n",
       "      <td>55</td>\n",
       "      <td>11</td>\n",
       "      <td>No</td>\n",
       "      <td>Yes</td>\n",
       "    </tr>\n",
       "    <tr>\n",
       "      <th>397</th>\n",
       "      <td>7.41</td>\n",
       "      <td>162</td>\n",
       "      <td>26</td>\n",
       "      <td>12</td>\n",
       "      <td>368</td>\n",
       "      <td>159</td>\n",
       "      <td>Medium</td>\n",
       "      <td>40</td>\n",
       "      <td>18</td>\n",
       "      <td>Yes</td>\n",
       "      <td>Yes</td>\n",
       "    </tr>\n",
       "    <tr>\n",
       "      <th>398</th>\n",
       "      <td>5.94</td>\n",
       "      <td>100</td>\n",
       "      <td>79</td>\n",
       "      <td>7</td>\n",
       "      <td>284</td>\n",
       "      <td>95</td>\n",
       "      <td>Bad</td>\n",
       "      <td>50</td>\n",
       "      <td>12</td>\n",
       "      <td>Yes</td>\n",
       "      <td>Yes</td>\n",
       "    </tr>\n",
       "    <tr>\n",
       "      <th>399</th>\n",
       "      <td>9.71</td>\n",
       "      <td>134</td>\n",
       "      <td>37</td>\n",
       "      <td>0</td>\n",
       "      <td>27</td>\n",
       "      <td>120</td>\n",
       "      <td>Good</td>\n",
       "      <td>49</td>\n",
       "      <td>16</td>\n",
       "      <td>Yes</td>\n",
       "      <td>Yes</td>\n",
       "    </tr>\n",
       "  </tbody>\n",
       "</table>\n",
       "<p>400 rows × 11 columns</p>\n",
       "</div>"
      ],
      "text/plain": [
       "     Sales  CompPrice  Income  Advertising  Population  Price ShelveLoc  Age  \\\n",
       "0     9.50        138      73           11         276    120       Bad   42   \n",
       "1    11.22        111      48           16         260     83      Good   65   \n",
       "2    10.06        113      35           10         269     80    Medium   59   \n",
       "3     7.40        117     100            4         466     97    Medium   55   \n",
       "4     4.15        141      64            3         340    128       Bad   38   \n",
       "..     ...        ...     ...          ...         ...    ...       ...  ...   \n",
       "395  12.57        138     108           17         203    128      Good   33   \n",
       "396   6.14        139      23            3          37    120    Medium   55   \n",
       "397   7.41        162      26           12         368    159    Medium   40   \n",
       "398   5.94        100      79            7         284     95       Bad   50   \n",
       "399   9.71        134      37            0          27    120      Good   49   \n",
       "\n",
       "     Education Urban   US  \n",
       "0           17   Yes  Yes  \n",
       "1           10   Yes  Yes  \n",
       "2           12   Yes  Yes  \n",
       "3           14   Yes  Yes  \n",
       "4           13   Yes   No  \n",
       "..         ...   ...  ...  \n",
       "395         14   Yes  Yes  \n",
       "396         11    No  Yes  \n",
       "397         18   Yes  Yes  \n",
       "398         12   Yes  Yes  \n",
       "399         16   Yes  Yes  \n",
       "\n",
       "[400 rows x 11 columns]"
      ]
     },
     "execution_count": 221,
     "metadata": {},
     "output_type": "execute_result"
    }
   ],
   "source": [
    "company"
   ]
  },
  {
   "cell_type": "code",
   "execution_count": 222,
   "id": "9d8cee80",
   "metadata": {
    "ExecuteTime": {
     "end_time": "2023-03-14T08:53:44.447364Z",
     "start_time": "2023-03-14T08:53:44.420209Z"
    }
   },
   "outputs": [
    {
     "name": "stdout",
     "output_type": "stream",
     "text": [
      "<class 'pandas.core.frame.DataFrame'>\n",
      "RangeIndex: 400 entries, 0 to 399\n",
      "Data columns (total 11 columns):\n",
      " #   Column       Non-Null Count  Dtype  \n",
      "---  ------       --------------  -----  \n",
      " 0   Sales        400 non-null    float64\n",
      " 1   CompPrice    400 non-null    int64  \n",
      " 2   Income       400 non-null    int64  \n",
      " 3   Advertising  400 non-null    int64  \n",
      " 4   Population   400 non-null    int64  \n",
      " 5   Price        400 non-null    int64  \n",
      " 6   ShelveLoc    400 non-null    object \n",
      " 7   Age          400 non-null    int64  \n",
      " 8   Education    400 non-null    int64  \n",
      " 9   Urban        400 non-null    object \n",
      " 10  US           400 non-null    object \n",
      "dtypes: float64(1), int64(7), object(3)\n",
      "memory usage: 34.5+ KB\n"
     ]
    }
   ],
   "source": [
    "company.info()"
   ]
  },
  {
   "cell_type": "code",
   "execution_count": 223,
   "id": "9073c013",
   "metadata": {
    "ExecuteTime": {
     "end_time": "2023-03-14T08:53:44.472282Z",
     "start_time": "2023-03-14T08:53:44.455423Z"
    }
   },
   "outputs": [
    {
     "data": {
      "text/plain": [
       "(400, 11)"
      ]
     },
     "execution_count": 223,
     "metadata": {},
     "output_type": "execute_result"
    }
   ],
   "source": [
    "company.shape"
   ]
  },
  {
   "cell_type": "code",
   "execution_count": 224,
   "id": "995eb915",
   "metadata": {
    "ExecuteTime": {
     "end_time": "2023-03-14T08:53:44.520785Z",
     "start_time": "2023-03-14T08:53:44.475190Z"
    }
   },
   "outputs": [
    {
     "data": {
      "text/html": [
       "<div>\n",
       "<style scoped>\n",
       "    .dataframe tbody tr th:only-of-type {\n",
       "        vertical-align: middle;\n",
       "    }\n",
       "\n",
       "    .dataframe tbody tr th {\n",
       "        vertical-align: top;\n",
       "    }\n",
       "\n",
       "    .dataframe thead th {\n",
       "        text-align: right;\n",
       "    }\n",
       "</style>\n",
       "<table border=\"1\" class=\"dataframe\">\n",
       "  <thead>\n",
       "    <tr style=\"text-align: right;\">\n",
       "      <th></th>\n",
       "      <th>Sales</th>\n",
       "      <th>CompPrice</th>\n",
       "      <th>Income</th>\n",
       "      <th>Advertising</th>\n",
       "      <th>Population</th>\n",
       "      <th>Price</th>\n",
       "      <th>Age</th>\n",
       "      <th>Education</th>\n",
       "    </tr>\n",
       "  </thead>\n",
       "  <tbody>\n",
       "    <tr>\n",
       "      <th>count</th>\n",
       "      <td>400.000000</td>\n",
       "      <td>400.000000</td>\n",
       "      <td>400.000000</td>\n",
       "      <td>400.000000</td>\n",
       "      <td>400.000000</td>\n",
       "      <td>400.000000</td>\n",
       "      <td>400.000000</td>\n",
       "      <td>400.000000</td>\n",
       "    </tr>\n",
       "    <tr>\n",
       "      <th>mean</th>\n",
       "      <td>7.496325</td>\n",
       "      <td>124.975000</td>\n",
       "      <td>68.657500</td>\n",
       "      <td>6.635000</td>\n",
       "      <td>264.840000</td>\n",
       "      <td>115.795000</td>\n",
       "      <td>53.322500</td>\n",
       "      <td>13.900000</td>\n",
       "    </tr>\n",
       "    <tr>\n",
       "      <th>std</th>\n",
       "      <td>2.824115</td>\n",
       "      <td>15.334512</td>\n",
       "      <td>27.986037</td>\n",
       "      <td>6.650364</td>\n",
       "      <td>147.376436</td>\n",
       "      <td>23.676664</td>\n",
       "      <td>16.200297</td>\n",
       "      <td>2.620528</td>\n",
       "    </tr>\n",
       "    <tr>\n",
       "      <th>min</th>\n",
       "      <td>0.000000</td>\n",
       "      <td>77.000000</td>\n",
       "      <td>21.000000</td>\n",
       "      <td>0.000000</td>\n",
       "      <td>10.000000</td>\n",
       "      <td>24.000000</td>\n",
       "      <td>25.000000</td>\n",
       "      <td>10.000000</td>\n",
       "    </tr>\n",
       "    <tr>\n",
       "      <th>25%</th>\n",
       "      <td>5.390000</td>\n",
       "      <td>115.000000</td>\n",
       "      <td>42.750000</td>\n",
       "      <td>0.000000</td>\n",
       "      <td>139.000000</td>\n",
       "      <td>100.000000</td>\n",
       "      <td>39.750000</td>\n",
       "      <td>12.000000</td>\n",
       "    </tr>\n",
       "    <tr>\n",
       "      <th>50%</th>\n",
       "      <td>7.490000</td>\n",
       "      <td>125.000000</td>\n",
       "      <td>69.000000</td>\n",
       "      <td>5.000000</td>\n",
       "      <td>272.000000</td>\n",
       "      <td>117.000000</td>\n",
       "      <td>54.500000</td>\n",
       "      <td>14.000000</td>\n",
       "    </tr>\n",
       "    <tr>\n",
       "      <th>75%</th>\n",
       "      <td>9.320000</td>\n",
       "      <td>135.000000</td>\n",
       "      <td>91.000000</td>\n",
       "      <td>12.000000</td>\n",
       "      <td>398.500000</td>\n",
       "      <td>131.000000</td>\n",
       "      <td>66.000000</td>\n",
       "      <td>16.000000</td>\n",
       "    </tr>\n",
       "    <tr>\n",
       "      <th>max</th>\n",
       "      <td>16.270000</td>\n",
       "      <td>175.000000</td>\n",
       "      <td>120.000000</td>\n",
       "      <td>29.000000</td>\n",
       "      <td>509.000000</td>\n",
       "      <td>191.000000</td>\n",
       "      <td>80.000000</td>\n",
       "      <td>18.000000</td>\n",
       "    </tr>\n",
       "  </tbody>\n",
       "</table>\n",
       "</div>"
      ],
      "text/plain": [
       "            Sales   CompPrice      Income  Advertising  Population  \\\n",
       "count  400.000000  400.000000  400.000000   400.000000  400.000000   \n",
       "mean     7.496325  124.975000   68.657500     6.635000  264.840000   \n",
       "std      2.824115   15.334512   27.986037     6.650364  147.376436   \n",
       "min      0.000000   77.000000   21.000000     0.000000   10.000000   \n",
       "25%      5.390000  115.000000   42.750000     0.000000  139.000000   \n",
       "50%      7.490000  125.000000   69.000000     5.000000  272.000000   \n",
       "75%      9.320000  135.000000   91.000000    12.000000  398.500000   \n",
       "max     16.270000  175.000000  120.000000    29.000000  509.000000   \n",
       "\n",
       "            Price         Age   Education  \n",
       "count  400.000000  400.000000  400.000000  \n",
       "mean   115.795000   53.322500   13.900000  \n",
       "std     23.676664   16.200297    2.620528  \n",
       "min     24.000000   25.000000   10.000000  \n",
       "25%    100.000000   39.750000   12.000000  \n",
       "50%    117.000000   54.500000   14.000000  \n",
       "75%    131.000000   66.000000   16.000000  \n",
       "max    191.000000   80.000000   18.000000  "
      ]
     },
     "execution_count": 224,
     "metadata": {},
     "output_type": "execute_result"
    }
   ],
   "source": [
    "company.describe()"
   ]
  },
  {
   "cell_type": "code",
   "execution_count": 225,
   "id": "0840e92f",
   "metadata": {
    "ExecuteTime": {
     "end_time": "2023-03-14T08:53:44.552441Z",
     "start_time": "2023-03-14T08:53:44.520785Z"
    }
   },
   "outputs": [
    {
     "data": {
      "text/plain": [
       "Sales          0\n",
       "CompPrice      0\n",
       "Income         0\n",
       "Advertising    0\n",
       "Population     0\n",
       "Price          0\n",
       "ShelveLoc      0\n",
       "Age            0\n",
       "Education      0\n",
       "Urban          0\n",
       "US             0\n",
       "dtype: int64"
      ]
     },
     "execution_count": 225,
     "metadata": {},
     "output_type": "execute_result"
    }
   ],
   "source": [
    "company.isna().sum()"
   ]
  },
  {
   "cell_type": "code",
   "execution_count": 226,
   "id": "338b76b4",
   "metadata": {
    "ExecuteTime": {
     "end_time": "2023-03-14T08:53:45.071172Z",
     "start_time": "2023-03-14T08:53:44.555452Z"
    },
    "scrolled": true
   },
   "outputs": [
    {
     "data": {
      "text/plain": [
       "<AxesSubplot:>"
      ]
     },
     "execution_count": 226,
     "metadata": {},
     "output_type": "execute_result"
    },
    {
     "data": {
      "image/png": "[encoded data removed]",
      "text/plain": [
       "<Figure size 432x288 with 2 Axes>"
      ]
     },
     "metadata": {
      "needs_background": "light"
     },
     "output_type": "display_data"
    }
   ],
   "source": [
    "sns.heatmap(company.isna())"
   ]
  },
  {
   "cell_type": "code",
   "execution_count": 227,
   "id": "3be1f8c2",
   "metadata": {
    "ExecuteTime": {
     "end_time": "2023-03-14T08:53:45.683526Z",
     "start_time": "2023-03-14T08:53:45.073172Z"
    }
   },
   "outputs": [
    {
     "data": {
      "text/plain": [
       "<AxesSubplot:>"
      ]
     },
     "execution_count": 227,
     "metadata": {},
     "output_type": "execute_result"
    },
    {
     "data": {
      "image/png": "[encoded data removed]",
      "text/plain": [
       "<Figure size 720x576 with 2 Axes>"
      ]
     },
     "metadata": {
      "needs_background": "light"
     },
     "output_type": "display_data"
    }
   ],
   "source": [
    "plt.figure(figsize=(10,8));\n",
    "sns.heatmap(company.corr(),cmap='magma',annot=True,fmt=\".2f\")"
   ]
  },
  {
   "cell_type": "code",
   "execution_count": 228,
   "id": "cfcad091",
   "metadata": {
    "ExecuteTime": {
     "end_time": "2023-03-14T08:53:45.818364Z",
     "start_time": "2023-03-14T08:53:45.688434Z"
    }
   },
   "outputs": [
    {
     "data": {
      "image/png": "[encoded data removed]",
      "text/plain": [
       "<Figure size 432x288 with 1 Axes>"
      ]
     },
     "metadata": {
      "needs_background": "light"
     },
     "output_type": "display_data"
    }
   ],
   "source": [
    "company.boxplot(\"CompPrice\",vert=False)\n",
    "Q1=np.percentile(company[\"CompPrice\"],25)\n",
    "Q3=np.percentile(company[\"CompPrice\"],75)\n",
    "IQR=Q3-Q1\n",
    "LW=Q1-(1.5*IQR)\n",
    "UW=Q3+(1.5*IQR)\n",
    "company[company[\"CompPrice\"]<LW].shape\n",
    "company[company[\"CompPrice\"]>UW].shape\n",
    "company[\"CompPrice\"]=np.where(company[\"CompPrice\"]>UW,UW,np.where(company[\"CompPrice\"]<LW,LW,company[\"CompPrice\"]))"
   ]
  },
  {
   "cell_type": "code",
   "execution_count": 229,
   "id": "16f20712",
   "metadata": {
    "ExecuteTime": {
     "end_time": "2023-03-14T08:53:45.945392Z",
     "start_time": "2023-03-14T08:53:45.820396Z"
    }
   },
   "outputs": [
    {
     "data": {
      "text/plain": [
       "<AxesSubplot:>"
      ]
     },
     "execution_count": 229,
     "metadata": {},
     "output_type": "execute_result"
    },
    {
     "data": {
      "image/png": "[encoded data removed]",
      "text/plain": [
       "<Figure size 432x288 with 1 Axes>"
      ]
     },
     "metadata": {
      "needs_background": "light"
     },
     "output_type": "display_data"
    }
   ],
   "source": [
    "company.boxplot(\"Income\",vert=False)"
   ]
  },
  {
   "cell_type": "code",
   "execution_count": 230,
   "id": "06c6f15b",
   "metadata": {
    "ExecuteTime": {
     "end_time": "2023-03-14T08:53:46.066314Z",
     "start_time": "2023-03-14T08:53:45.947443Z"
    }
   },
   "outputs": [
    {
     "data": {
      "text/plain": [
       "<AxesSubplot:>"
      ]
     },
     "execution_count": 230,
     "metadata": {},
     "output_type": "execute_result"
    },
    {
     "data": {
      "image/png": "[encoded data removed]",
      "text/plain": [
       "<Figure size 432x288 with 1 Axes>"
      ]
     },
     "metadata": {
      "needs_background": "light"
     },
     "output_type": "display_data"
    }
   ],
   "source": [
    "company.boxplot(\"Advertising\",vert=False)"
   ]
  },
  {
   "cell_type": "code",
   "execution_count": 231,
   "id": "3cf0d79a",
   "metadata": {
    "ExecuteTime": {
     "end_time": "2023-03-14T08:53:46.208300Z",
     "start_time": "2023-03-14T08:53:46.068968Z"
    }
   },
   "outputs": [
    {
     "data": {
      "text/plain": [
       "<AxesSubplot:>"
      ]
     },
     "execution_count": 231,
     "metadata": {},
     "output_type": "execute_result"
    },
    {
     "data": {
      "image/png": "[encoded data removed]",
      "text/plain": [
       "<Figure size 432x288 with 1 Axes>"
      ]
     },
     "metadata": {
      "needs_background": "light"
     },
     "output_type": "display_data"
    }
   ],
   "source": [
    "company.boxplot(\"Population\",vert=False)"
   ]
  },
  {
   "cell_type": "code",
   "execution_count": 232,
   "id": "ff68a64e",
   "metadata": {
    "ExecuteTime": {
     "end_time": "2023-03-14T08:53:46.336367Z",
     "start_time": "2023-03-14T08:53:46.210659Z"
    }
   },
   "outputs": [
    {
     "data": {
      "text/plain": [
       "<AxesSubplot:>"
      ]
     },
     "execution_count": 232,
     "metadata": {},
     "output_type": "execute_result"
    },
    {
     "data": {
      "image/png": "[encoded data removed]",
      "text/plain": [
       "<Figure size 432x288 with 1 Axes>"
      ]
     },
     "metadata": {
      "needs_background": "light"
     },
     "output_type": "display_data"
    }
   ],
   "source": [
    "company.boxplot(\"Price\",vert=False)"
   ]
  },
  {
   "cell_type": "code",
   "execution_count": 233,
   "id": "5d2c726b",
   "metadata": {
    "ExecuteTime": {
     "end_time": "2023-03-14T08:53:46.456919Z",
     "start_time": "2023-03-14T08:53:46.338924Z"
    }
   },
   "outputs": [
    {
     "data": {
      "text/plain": [
       "<AxesSubplot:>"
      ]
     },
     "execution_count": 233,
     "metadata": {},
     "output_type": "execute_result"
    },
    {
     "data": {
      "image/png": "[encoded data removed]",
      "text/plain": [
       "<Figure size 432x288 with 1 Axes>"
      ]
     },
     "metadata": {
      "needs_background": "light"
     },
     "output_type": "display_data"
    }
   ],
   "source": [
    "company.boxplot(\"Age\",vert=False)"
   ]
  },
  {
   "cell_type": "code",
   "execution_count": 234,
   "id": "3c8f95a1",
   "metadata": {
    "ExecuteTime": {
     "end_time": "2023-03-14T08:53:46.609295Z",
     "start_time": "2023-03-14T08:53:46.458741Z"
    }
   },
   "outputs": [
    {
     "data": {
      "text/plain": [
       "<AxesSubplot:>"
      ]
     },
     "execution_count": 234,
     "metadata": {},
     "output_type": "execute_result"
    },
    {
     "data": {
      "image/png": "[encoded data removed]",
      "text/plain": [
       "<Figure size 432x288 with 1 Axes>"
      ]
     },
     "metadata": {
      "needs_background": "light"
     },
     "output_type": "display_data"
    }
   ],
   "source": [
    "company.boxplot(\"Education\",vert=False)"
   ]
  },
  {
   "cell_type": "code",
   "execution_count": 235,
   "id": "2e75483b",
   "metadata": {
    "ExecuteTime": {
     "end_time": "2023-03-14T08:53:46.624862Z",
     "start_time": "2023-03-14T08:53:46.611108Z"
    }
   },
   "outputs": [],
   "source": [
    "company[\"Sales\"]=pd.cut(company[\"Sales\"],bins=[0,4.2,8.01,12.01,16.27],labels=[\"Poor\",\"Good\",\"Very Good \",\"Excellent\"])"
   ]
  },
  {
   "cell_type": "code",
   "execution_count": 236,
   "id": "75eb480b",
   "metadata": {
    "ExecuteTime": {
     "end_time": "2023-03-14T08:53:46.657685Z",
     "start_time": "2023-03-14T08:53:46.626834Z"
    }
   },
   "outputs": [
    {
     "data": {
      "text/html": [
       "<div>\n",
       "<style scoped>\n",
       "    .dataframe tbody tr th:only-of-type {\n",
       "        vertical-align: middle;\n",
       "    }\n",
       "\n",
       "    .dataframe tbody tr th {\n",
       "        vertical-align: top;\n",
       "    }\n",
       "\n",
       "    .dataframe thead th {\n",
       "        text-align: right;\n",
       "    }\n",
       "</style>\n",
       "<table border=\"1\" class=\"dataframe\">\n",
       "  <thead>\n",
       "    <tr style=\"text-align: right;\">\n",
       "      <th></th>\n",
       "      <th>Sales</th>\n",
       "      <th>CompPrice</th>\n",
       "      <th>Income</th>\n",
       "      <th>Advertising</th>\n",
       "      <th>Population</th>\n",
       "      <th>Price</th>\n",
       "      <th>ShelveLoc</th>\n",
       "      <th>Age</th>\n",
       "      <th>Education</th>\n",
       "      <th>Urban</th>\n",
       "      <th>US</th>\n",
       "    </tr>\n",
       "  </thead>\n",
       "  <tbody>\n",
       "    <tr>\n",
       "      <th>0</th>\n",
       "      <td>Very Good</td>\n",
       "      <td>138.0</td>\n",
       "      <td>73</td>\n",
       "      <td>11</td>\n",
       "      <td>276</td>\n",
       "      <td>120</td>\n",
       "      <td>Bad</td>\n",
       "      <td>42</td>\n",
       "      <td>17</td>\n",
       "      <td>Yes</td>\n",
       "      <td>Yes</td>\n",
       "    </tr>\n",
       "    <tr>\n",
       "      <th>1</th>\n",
       "      <td>Very Good</td>\n",
       "      <td>111.0</td>\n",
       "      <td>48</td>\n",
       "      <td>16</td>\n",
       "      <td>260</td>\n",
       "      <td>83</td>\n",
       "      <td>Good</td>\n",
       "      <td>65</td>\n",
       "      <td>10</td>\n",
       "      <td>Yes</td>\n",
       "      <td>Yes</td>\n",
       "    </tr>\n",
       "    <tr>\n",
       "      <th>2</th>\n",
       "      <td>Very Good</td>\n",
       "      <td>113.0</td>\n",
       "      <td>35</td>\n",
       "      <td>10</td>\n",
       "      <td>269</td>\n",
       "      <td>80</td>\n",
       "      <td>Medium</td>\n",
       "      <td>59</td>\n",
       "      <td>12</td>\n",
       "      <td>Yes</td>\n",
       "      <td>Yes</td>\n",
       "    </tr>\n",
       "    <tr>\n",
       "      <th>3</th>\n",
       "      <td>Good</td>\n",
       "      <td>117.0</td>\n",
       "      <td>100</td>\n",
       "      <td>4</td>\n",
       "      <td>466</td>\n",
       "      <td>97</td>\n",
       "      <td>Medium</td>\n",
       "      <td>55</td>\n",
       "      <td>14</td>\n",
       "      <td>Yes</td>\n",
       "      <td>Yes</td>\n",
       "    </tr>\n",
       "    <tr>\n",
       "      <th>4</th>\n",
       "      <td>Poor</td>\n",
       "      <td>141.0</td>\n",
       "      <td>64</td>\n",
       "      <td>3</td>\n",
       "      <td>340</td>\n",
       "      <td>128</td>\n",
       "      <td>Bad</td>\n",
       "      <td>38</td>\n",
       "      <td>13</td>\n",
       "      <td>Yes</td>\n",
       "      <td>No</td>\n",
       "    </tr>\n",
       "    <tr>\n",
       "      <th>...</th>\n",
       "      <td>...</td>\n",
       "      <td>...</td>\n",
       "      <td>...</td>\n",
       "      <td>...</td>\n",
       "      <td>...</td>\n",
       "      <td>...</td>\n",
       "      <td>...</td>\n",
       "      <td>...</td>\n",
       "      <td>...</td>\n",
       "      <td>...</td>\n",
       "      <td>...</td>\n",
       "    </tr>\n",
       "    <tr>\n",
       "      <th>395</th>\n",
       "      <td>Excellent</td>\n",
       "      <td>138.0</td>\n",
       "      <td>108</td>\n",
       "      <td>17</td>\n",
       "      <td>203</td>\n",
       "      <td>128</td>\n",
       "      <td>Good</td>\n",
       "      <td>33</td>\n",
       "      <td>14</td>\n",
       "      <td>Yes</td>\n",
       "      <td>Yes</td>\n",
       "    </tr>\n",
       "    <tr>\n",
       "      <th>396</th>\n",
       "      <td>Good</td>\n",
       "      <td>139.0</td>\n",
       "      <td>23</td>\n",
       "      <td>3</td>\n",
       "      <td>37</td>\n",
       "      <td>120</td>\n",
       "      <td>Medium</td>\n",
       "      <td>55</td>\n",
       "      <td>11</td>\n",
       "      <td>No</td>\n",
       "      <td>Yes</td>\n",
       "    </tr>\n",
       "    <tr>\n",
       "      <th>397</th>\n",
       "      <td>Good</td>\n",
       "      <td>162.0</td>\n",
       "      <td>26</td>\n",
       "      <td>12</td>\n",
       "      <td>368</td>\n",
       "      <td>159</td>\n",
       "      <td>Medium</td>\n",
       "      <td>40</td>\n",
       "      <td>18</td>\n",
       "      <td>Yes</td>\n",
       "      <td>Yes</td>\n",
       "    </tr>\n",
       "    <tr>\n",
       "      <th>398</th>\n",
       "      <td>Good</td>\n",
       "      <td>100.0</td>\n",
       "      <td>79</td>\n",
       "      <td>7</td>\n",
       "      <td>284</td>\n",
       "      <td>95</td>\n",
       "      <td>Bad</td>\n",
       "      <td>50</td>\n",
       "      <td>12</td>\n",
       "      <td>Yes</td>\n",
       "      <td>Yes</td>\n",
       "    </tr>\n",
       "    <tr>\n",
       "      <th>399</th>\n",
       "      <td>Very Good</td>\n",
       "      <td>134.0</td>\n",
       "      <td>37</td>\n",
       "      <td>0</td>\n",
       "      <td>27</td>\n",
       "      <td>120</td>\n",
       "      <td>Good</td>\n",
       "      <td>49</td>\n",
       "      <td>16</td>\n",
       "      <td>Yes</td>\n",
       "      <td>Yes</td>\n",
       "    </tr>\n",
       "  </tbody>\n",
       "</table>\n",
       "<p>400 rows × 11 columns</p>\n",
       "</div>"
      ],
      "text/plain": [
       "          Sales  CompPrice  Income  Advertising  Population  Price ShelveLoc  \\\n",
       "0    Very Good       138.0      73           11         276    120       Bad   \n",
       "1    Very Good       111.0      48           16         260     83      Good   \n",
       "2    Very Good       113.0      35           10         269     80    Medium   \n",
       "3          Good      117.0     100            4         466     97    Medium   \n",
       "4          Poor      141.0      64            3         340    128       Bad   \n",
       "..          ...        ...     ...          ...         ...    ...       ...   \n",
       "395   Excellent      138.0     108           17         203    128      Good   \n",
       "396        Good      139.0      23            3          37    120    Medium   \n",
       "397        Good      162.0      26           12         368    159    Medium   \n",
       "398        Good      100.0      79            7         284     95       Bad   \n",
       "399  Very Good       134.0      37            0          27    120      Good   \n",
       "\n",
       "     Age  Education Urban   US  \n",
       "0     42         17   Yes  Yes  \n",
       "1     65         10   Yes  Yes  \n",
       "2     59         12   Yes  Yes  \n",
       "3     55         14   Yes  Yes  \n",
       "4     38         13   Yes   No  \n",
       "..   ...        ...   ...  ...  \n",
       "395   33         14   Yes  Yes  \n",
       "396   55         11    No  Yes  \n",
       "397   40         18   Yes  Yes  \n",
       "398   50         12   Yes  Yes  \n",
       "399   49         16   Yes  Yes  \n",
       "\n",
       "[400 rows x 11 columns]"
      ]
     },
     "execution_count": 236,
     "metadata": {},
     "output_type": "execute_result"
    }
   ],
   "source": [
    "company"
   ]
  },
  {
   "cell_type": "code",
   "execution_count": 237,
   "id": "86e858a4",
   "metadata": {
    "ExecuteTime": {
     "end_time": "2023-03-14T08:53:46.666169Z",
     "start_time": "2023-03-14T08:53:46.659858Z"
    }
   },
   "outputs": [],
   "source": [
    "y=company['Sales']\n",
    "x=company.iloc[:,1:]"
   ]
  },
  {
   "cell_type": "code",
   "execution_count": 238,
   "id": "eadc3c1a",
   "metadata": {
    "ExecuteTime": {
     "end_time": "2023-03-14T08:53:46.682099Z",
     "start_time": "2023-03-14T08:53:46.669031Z"
    }
   },
   "outputs": [
    {
     "data": {
      "text/plain": [
       "CompPrice      float64\n",
       "Income           int64\n",
       "Advertising      int64\n",
       "Population       int64\n",
       "Price            int64\n",
       "ShelveLoc       object\n",
       "Age              int64\n",
       "Education        int64\n",
       "Urban           object\n",
       "US              object\n",
       "dtype: object"
      ]
     },
     "execution_count": 238,
     "metadata": {},
     "output_type": "execute_result"
    }
   ],
   "source": [
    "x.dtypes"
   ]
  },
  {
   "cell_type": "code",
   "execution_count": 239,
   "id": "7ac9948e",
   "metadata": {
    "ExecuteTime": {
     "end_time": "2023-03-14T08:53:46.697593Z",
     "start_time": "2023-03-14T08:53:46.685086Z"
    }
   },
   "outputs": [],
   "source": [
    "Le=LabelEncoder()\n",
    "Mm=MinMaxScaler()"
   ]
  },
  {
   "cell_type": "code",
   "execution_count": 240,
   "id": "a5476163",
   "metadata": {
    "ExecuteTime": {
     "end_time": "2023-03-14T08:53:46.753338Z",
     "start_time": "2023-03-14T08:53:46.699593Z"
    }
   },
   "outputs": [],
   "source": [
    "x[\"CompPrice\"]=Mm.fit_transform(x[[\"CompPrice\"]])\n",
    "\n",
    "x[\"Income\"]=Mm.fit_transform(x[[\"Income\"]])\n",
    "\n",
    "x[\"Advertising\"]=Mm.fit_transform(x[[\"Advertising\"]])\n",
    "\n",
    "x[\"Population\"]=Mm.fit_transform(x[[\"Population\"]])\n",
    "\n",
    "x[\"Price\"]=Mm.fit_transform(x[[\"Price\"]])\n",
    "\n",
    "x[\"Age\"]=Mm.fit_transform(x[[\"Age\"]])\n",
    "\n",
    "x[\"Education\"]=Mm.fit_transform(x[[\"Education\"]])\n",
    "\n",
    "x[\"ShelveLoc\"]=Le.fit_transform(x[[\"ShelveLoc\"]])\n",
    "x[\"ShelveLoc\"]=pd.DataFrame(x[\"ShelveLoc\"])\n",
    "\n",
    "x[\"Urban\"]=Le.fit_transform(x[\"Urban\"])\n",
    "x[\"Urban\"]=pd.DataFrame(x[\"Urban\"])\n",
    "\n",
    "x[\"US\"]=Le.fit_transform(x[\"US\"])\n",
    "x[\"US\"]=pd.DataFrame(x[\"US\"])\n",
    "\n",
    "y=Le.fit_transform(company[\"Sales\"])\n",
    "y=pd.DataFrame(y)"
   ]
  },
  {
   "cell_type": "code",
   "execution_count": 241,
   "id": "c476e9bf",
   "metadata": {
    "ExecuteTime": {
     "end_time": "2023-03-14T08:53:46.777214Z",
     "start_time": "2023-03-14T08:53:46.755018Z"
    }
   },
   "outputs": [
    {
     "data": {
      "text/html": [
       "<div>\n",
       "<style scoped>\n",
       "    .dataframe tbody tr th:only-of-type {\n",
       "        vertical-align: middle;\n",
       "    }\n",
       "\n",
       "    .dataframe tbody tr th {\n",
       "        vertical-align: top;\n",
       "    }\n",
       "\n",
       "    .dataframe thead th {\n",
       "        text-align: right;\n",
       "    }\n",
       "</style>\n",
       "<table border=\"1\" class=\"dataframe\">\n",
       "  <thead>\n",
       "    <tr style=\"text-align: right;\">\n",
       "      <th></th>\n",
       "      <th>CompPrice</th>\n",
       "      <th>Income</th>\n",
       "      <th>Advertising</th>\n",
       "      <th>Population</th>\n",
       "      <th>Price</th>\n",
       "      <th>ShelveLoc</th>\n",
       "      <th>Age</th>\n",
       "      <th>Education</th>\n",
       "      <th>Urban</th>\n",
       "      <th>US</th>\n",
       "    </tr>\n",
       "  </thead>\n",
       "  <tbody>\n",
       "    <tr>\n",
       "      <th>0</th>\n",
       "      <td>0.6625</td>\n",
       "      <td>0.525253</td>\n",
       "      <td>0.379310</td>\n",
       "      <td>0.533066</td>\n",
       "      <td>0.574850</td>\n",
       "      <td>0</td>\n",
       "      <td>0.309091</td>\n",
       "      <td>0.875</td>\n",
       "      <td>1</td>\n",
       "      <td>1</td>\n",
       "    </tr>\n",
       "    <tr>\n",
       "      <th>1</th>\n",
       "      <td>0.3250</td>\n",
       "      <td>0.272727</td>\n",
       "      <td>0.551724</td>\n",
       "      <td>0.501002</td>\n",
       "      <td>0.353293</td>\n",
       "      <td>1</td>\n",
       "      <td>0.727273</td>\n",
       "      <td>0.000</td>\n",
       "      <td>1</td>\n",
       "      <td>1</td>\n",
       "    </tr>\n",
       "    <tr>\n",
       "      <th>2</th>\n",
       "      <td>0.3500</td>\n",
       "      <td>0.141414</td>\n",
       "      <td>0.344828</td>\n",
       "      <td>0.519038</td>\n",
       "      <td>0.335329</td>\n",
       "      <td>2</td>\n",
       "      <td>0.618182</td>\n",
       "      <td>0.250</td>\n",
       "      <td>1</td>\n",
       "      <td>1</td>\n",
       "    </tr>\n",
       "    <tr>\n",
       "      <th>3</th>\n",
       "      <td>0.4000</td>\n",
       "      <td>0.797980</td>\n",
       "      <td>0.137931</td>\n",
       "      <td>0.913828</td>\n",
       "      <td>0.437126</td>\n",
       "      <td>2</td>\n",
       "      <td>0.545455</td>\n",
       "      <td>0.500</td>\n",
       "      <td>1</td>\n",
       "      <td>1</td>\n",
       "    </tr>\n",
       "    <tr>\n",
       "      <th>4</th>\n",
       "      <td>0.7000</td>\n",
       "      <td>0.434343</td>\n",
       "      <td>0.103448</td>\n",
       "      <td>0.661323</td>\n",
       "      <td>0.622754</td>\n",
       "      <td>0</td>\n",
       "      <td>0.236364</td>\n",
       "      <td>0.375</td>\n",
       "      <td>1</td>\n",
       "      <td>0</td>\n",
       "    </tr>\n",
       "    <tr>\n",
       "      <th>...</th>\n",
       "      <td>...</td>\n",
       "      <td>...</td>\n",
       "      <td>...</td>\n",
       "      <td>...</td>\n",
       "      <td>...</td>\n",
       "      <td>...</td>\n",
       "      <td>...</td>\n",
       "      <td>...</td>\n",
       "      <td>...</td>\n",
       "      <td>...</td>\n",
       "    </tr>\n",
       "    <tr>\n",
       "      <th>395</th>\n",
       "      <td>0.6625</td>\n",
       "      <td>0.878788</td>\n",
       "      <td>0.586207</td>\n",
       "      <td>0.386774</td>\n",
       "      <td>0.622754</td>\n",
       "      <td>1</td>\n",
       "      <td>0.145455</td>\n",
       "      <td>0.500</td>\n",
       "      <td>1</td>\n",
       "      <td>1</td>\n",
       "    </tr>\n",
       "    <tr>\n",
       "      <th>396</th>\n",
       "      <td>0.6750</td>\n",
       "      <td>0.020202</td>\n",
       "      <td>0.103448</td>\n",
       "      <td>0.054108</td>\n",
       "      <td>0.574850</td>\n",
       "      <td>2</td>\n",
       "      <td>0.545455</td>\n",
       "      <td>0.125</td>\n",
       "      <td>0</td>\n",
       "      <td>1</td>\n",
       "    </tr>\n",
       "    <tr>\n",
       "      <th>397</th>\n",
       "      <td>0.9625</td>\n",
       "      <td>0.050505</td>\n",
       "      <td>0.413793</td>\n",
       "      <td>0.717435</td>\n",
       "      <td>0.808383</td>\n",
       "      <td>2</td>\n",
       "      <td>0.272727</td>\n",
       "      <td>1.000</td>\n",
       "      <td>1</td>\n",
       "      <td>1</td>\n",
       "    </tr>\n",
       "    <tr>\n",
       "      <th>398</th>\n",
       "      <td>0.1875</td>\n",
       "      <td>0.585859</td>\n",
       "      <td>0.241379</td>\n",
       "      <td>0.549098</td>\n",
       "      <td>0.425150</td>\n",
       "      <td>0</td>\n",
       "      <td>0.454545</td>\n",
       "      <td>0.250</td>\n",
       "      <td>1</td>\n",
       "      <td>1</td>\n",
       "    </tr>\n",
       "    <tr>\n",
       "      <th>399</th>\n",
       "      <td>0.6125</td>\n",
       "      <td>0.161616</td>\n",
       "      <td>0.000000</td>\n",
       "      <td>0.034068</td>\n",
       "      <td>0.574850</td>\n",
       "      <td>1</td>\n",
       "      <td>0.436364</td>\n",
       "      <td>0.750</td>\n",
       "      <td>1</td>\n",
       "      <td>1</td>\n",
       "    </tr>\n",
       "  </tbody>\n",
       "</table>\n",
       "<p>400 rows × 10 columns</p>\n",
       "</div>"
      ],
      "text/plain": [
       "     CompPrice    Income  Advertising  Population     Price  ShelveLoc  \\\n",
       "0       0.6625  0.525253     0.379310    0.533066  0.574850          0   \n",
       "1       0.3250  0.272727     0.551724    0.501002  0.353293          1   \n",
       "2       0.3500  0.141414     0.344828    0.519038  0.335329          2   \n",
       "3       0.4000  0.797980     0.137931    0.913828  0.437126          2   \n",
       "4       0.7000  0.434343     0.103448    0.661323  0.622754          0   \n",
       "..         ...       ...          ...         ...       ...        ...   \n",
       "395     0.6625  0.878788     0.586207    0.386774  0.622754          1   \n",
       "396     0.6750  0.020202     0.103448    0.054108  0.574850          2   \n",
       "397     0.9625  0.050505     0.413793    0.717435  0.808383          2   \n",
       "398     0.1875  0.585859     0.241379    0.549098  0.425150          0   \n",
       "399     0.6125  0.161616     0.000000    0.034068  0.574850          1   \n",
       "\n",
       "          Age  Education  Urban  US  \n",
       "0    0.309091      0.875      1   1  \n",
       "1    0.727273      0.000      1   1  \n",
       "2    0.618182      0.250      1   1  \n",
       "3    0.545455      0.500      1   1  \n",
       "4    0.236364      0.375      1   0  \n",
       "..        ...        ...    ...  ..  \n",
       "395  0.145455      0.500      1   1  \n",
       "396  0.545455      0.125      0   1  \n",
       "397  0.272727      1.000      1   1  \n",
       "398  0.454545      0.250      1   1  \n",
       "399  0.436364      0.750      1   1  \n",
       "\n",
       "[400 rows x 10 columns]"
      ]
     },
     "execution_count": 241,
     "metadata": {},
     "output_type": "execute_result"
    }
   ],
   "source": [
    "x"
   ]
  },
  {
   "cell_type": "code",
   "execution_count": 242,
   "id": "5792af25",
   "metadata": {
    "ExecuteTime": {
     "end_time": "2023-03-14T08:53:46.801494Z",
     "start_time": "2023-03-14T08:53:46.780386Z"
    }
   },
   "outputs": [],
   "source": [
    "x_train,x_test,y_train,y_test=train_test_split(x,y,test_size=0.4,random_state=1)"
   ]
  },
  {
   "cell_type": "code",
   "execution_count": 243,
   "id": "e1df449f",
   "metadata": {
    "ExecuteTime": {
     "end_time": "2023-03-14T08:53:46.864385Z",
     "start_time": "2023-03-14T08:53:46.804227Z"
    }
   },
   "outputs": [
    {
     "name": "stdout",
     "output_type": "stream",
     "text": [
      "              precision    recall  f1-score   support\n",
      "\n",
      "           0       0.00      0.00      0.00        11\n",
      "           1       0.54      0.80      0.65        76\n",
      "           2       0.29      0.12      0.17        17\n",
      "           3       0.51      0.38      0.44        55\n",
      "           4       0.00      0.00      0.00         1\n",
      "\n",
      "    accuracy                           0.53       160\n",
      "   macro avg       0.27      0.26      0.25       160\n",
      "weighted avg       0.47      0.53      0.48       160\n",
      "\n"
     ]
    }
   ],
   "source": [
    "lg=LogisticRegression()\n",
    "lg.fit(x_train,y_train)\n",
    "ypred=lg.predict(x_test)\n",
    "\n",
    "print(classification_report(y_test,ypred))"
   ]
  },
  {
   "cell_type": "code",
   "execution_count": 244,
   "id": "d9fac70c",
   "metadata": {
    "ExecuteTime": {
     "end_time": "2023-03-14T08:53:46.880096Z",
     "start_time": "2023-03-14T08:53:46.866531Z"
    }
   },
   "outputs": [
    {
     "name": "stdout",
     "output_type": "stream",
     "text": [
      "0.6291666666666667\n",
      "0.525\n"
     ]
    }
   ],
   "source": [
    "print(lg.score(x_train,y_train))\n",
    "print(lg.score(x_test,y_test))"
   ]
  },
  {
   "cell_type": "code",
   "execution_count": 245,
   "id": "b911fc5b",
   "metadata": {
    "ExecuteTime": {
     "end_time": "2023-03-14T08:53:46.888199Z",
     "start_time": "2023-03-14T08:53:46.882659Z"
    }
   },
   "outputs": [],
   "source": [
    "def predict(model):\n",
    "    model=model.fit(x_train,y_train)\n",
    "    ypred=model.predict(x_test)\n",
    "    \n",
    "    print(classification_report(y_test,ypred))\n",
    "    print(model.score(x_train,y_train))\n",
    "    print(model.score(x_test,y_test))\n",
    "    "
   ]
  },
  {
   "cell_type": "code",
   "execution_count": 246,
   "id": "a7d2fe59",
   "metadata": {
    "ExecuteTime": {
     "end_time": "2023-03-14T08:53:46.950198Z",
     "start_time": "2023-03-14T08:53:46.893638Z"
    }
   },
   "outputs": [
    {
     "name": "stdout",
     "output_type": "stream",
     "text": [
      "              precision    recall  f1-score   support\n",
      "\n",
      "           0       0.00      0.00      0.00        11\n",
      "           1       0.54      0.80      0.65        76\n",
      "           2       0.29      0.12      0.17        17\n",
      "           3       0.51      0.38      0.44        55\n",
      "           4       0.00      0.00      0.00         1\n",
      "\n",
      "    accuracy                           0.53       160\n",
      "   macro avg       0.27      0.26      0.25       160\n",
      "weighted avg       0.47      0.53      0.48       160\n",
      "\n",
      "0.6291666666666667\n",
      "0.525\n"
     ]
    }
   ],
   "source": [
    "predict(LogisticRegression())"
   ]
  },
  {
   "cell_type": "code",
   "execution_count": 247,
   "id": "bbe317d3",
   "metadata": {
    "ExecuteTime": {
     "end_time": "2023-03-14T08:53:46.973797Z",
     "start_time": "2023-03-14T08:53:46.952325Z"
    }
   },
   "outputs": [
    {
     "name": "stdout",
     "output_type": "stream",
     "text": [
      "              precision    recall  f1-score   support\n",
      "\n",
      "           0       0.11      0.09      0.10        11\n",
      "           1       0.62      0.66      0.64        76\n",
      "           2       0.14      0.06      0.08        17\n",
      "           3       0.45      0.53      0.49        55\n",
      "           4       0.00      0.00      0.00         1\n",
      "\n",
      "    accuracy                           0.51       160\n",
      "   macro avg       0.27      0.27      0.26       160\n",
      "weighted avg       0.48      0.51      0.49       160\n",
      "\n",
      "1.0\n",
      "0.50625\n"
     ]
    }
   ],
   "source": [
    "predict(DecisionTreeClassifier())"
   ]
  },
  {
   "cell_type": "code",
   "execution_count": 248,
   "id": "99da1570",
   "metadata": {
    "ExecuteTime": {
     "end_time": "2023-03-14T08:53:47.200267Z",
     "start_time": "2023-03-14T08:53:46.975797Z"
    }
   },
   "outputs": [],
   "source": [
    "RF=RandomForestClassifier(max_depth=6,max_leaf_nodes=20)\n",
    "RF.fit(x_train,y_train)\n",
    "y_predtrain=RF.predict(x_train)\n",
    "y_predtest=RF.predict(x_test)\n"
   ]
  },
  {
   "cell_type": "code",
   "execution_count": 249,
   "id": "cfa38da8",
   "metadata": {
    "ExecuteTime": {
     "end_time": "2023-03-14T08:53:47.208786Z",
     "start_time": "2023-03-14T08:53:47.203281Z"
    }
   },
   "outputs": [],
   "source": [
    "from sklearn.metrics import accuracy_score"
   ]
  },
  {
   "cell_type": "code",
   "execution_count": 250,
   "id": "e1d127da",
   "metadata": {
    "ExecuteTime": {
     "end_time": "2023-03-14T08:53:47.217032Z",
     "start_time": "2023-03-14T08:53:47.210802Z"
    }
   },
   "outputs": [],
   "source": [
    "acc1=accuracy_score(y_train,y_predtrain)\n",
    "acc2=accuracy_score(y_test,y_predtest)"
   ]
  },
  {
   "cell_type": "code",
   "execution_count": 251,
   "id": "3837801d",
   "metadata": {
    "ExecuteTime": {
     "end_time": "2023-03-14T08:53:47.232220Z",
     "start_time": "2023-03-14T08:53:47.219021Z"
    }
   },
   "outputs": [
    {
     "data": {
      "text/plain": [
       "0.8458333333333333"
      ]
     },
     "execution_count": 251,
     "metadata": {},
     "output_type": "execute_result"
    }
   ],
   "source": [
    "acc1\n"
   ]
  },
  {
   "cell_type": "code",
   "execution_count": 252,
   "id": "9b902b70",
   "metadata": {
    "ExecuteTime": {
     "end_time": "2023-03-14T08:53:47.241397Z",
     "start_time": "2023-03-14T08:53:47.234218Z"
    }
   },
   "outputs": [
    {
     "data": {
      "text/plain": [
       "0.55"
      ]
     },
     "execution_count": 252,
     "metadata": {},
     "output_type": "execute_result"
    }
   ],
   "source": [
    "acc2"
   ]
  },
  {
   "cell_type": "markdown",
   "id": "d9f6cf5c",
   "metadata": {},
   "source": [
    "KFOLD cross valdidation"
   ]
  },
  {
   "cell_type": "code",
   "execution_count": 256,
   "id": "ff13f968",
   "metadata": {
    "ExecuteTime": {
     "end_time": "2023-03-14T08:56:11.032189Z",
     "start_time": "2023-03-14T08:56:04.935661Z"
    }
   },
   "outputs": [
    {
     "data": {
      "text/plain": [
       "array([0.575, 0.55 , 0.6  , 0.65 , 0.675, 0.625, 0.575, 0.6  , 0.575,\n",
       "       0.675])"
      ]
     },
     "execution_count": 256,
     "metadata": {},
     "output_type": "execute_result"
    }
   ],
   "source": [
    "kf=KFold(n_splits=10)\n",
    "\n",
    "score=cross_val_score(GradientBoostingClassifier(),x,y,cv=kf)\n",
    "score"
   ]
  },
  {
   "cell_type": "code",
   "execution_count": 258,
   "id": "922434f8",
   "metadata": {
    "ExecuteTime": {
     "end_time": "2023-03-14T09:26:31.529649Z",
     "start_time": "2023-03-14T09:26:31.510048Z"
    }
   },
   "outputs": [
    {
     "data": {
      "text/plain": [
       "0.61"
      ]
     },
     "execution_count": 258,
     "metadata": {},
     "output_type": "execute_result"
    }
   ],
   "source": [
    "score.mean()"
   ]
  },
  {
   "cell_type": "markdown",
   "id": "fa066aae",
   "metadata": {},
   "source": [
    "# Bagging"
   ]
  },
  {
   "cell_type": "code",
   "execution_count": null,
   "id": "6922e796",
   "metadata": {
    "ExecuteTime": {
     "end_time": "2023-03-14T08:53:47.274299Z",
     "start_time": "2023-03-14T08:53:47.274299Z"
    }
   },
   "outputs": [],
   "source": [
    "Rf=RandomForestClassifier(max_depth=5)\n",
    "Bag=BaggingClassifier(base_estimator=Rf,max_features=0.6,n_estimators=100)\n",
    "Bag.fit(x_train,y_train)\n",
    "ypred=Bag.predict(x_train)\n",
    "ypredt=Bag.predict(x_test)\n"
   ]
  },
  {
   "cell_type": "code",
   "execution_count": null,
   "id": "0d25e90c",
   "metadata": {
    "ExecuteTime": {
     "end_time": "2023-03-14T08:53:47.276300Z",
     "start_time": "2023-03-14T08:53:47.276300Z"
    }
   },
   "outputs": [],
   "source": [
    "ac1=accuracy_score(y_train,ypred)\n",
    "ac2=accuracy_score(y_test,ypredt)"
   ]
  },
  {
   "cell_type": "code",
   "execution_count": null,
   "id": "32283fec",
   "metadata": {
    "ExecuteTime": {
     "end_time": "2023-03-14T08:53:47.278329Z",
     "start_time": "2023-03-14T08:53:47.278329Z"
    }
   },
   "outputs": [],
   "source": [
    "ac1,ac2"
   ]
  },
  {
   "cell_type": "code",
   "execution_count": null,
   "id": "9f60326b",
   "metadata": {
    "ExecuteTime": {
     "end_time": "2023-03-14T08:53:47.280330Z",
     "start_time": "2023-03-14T08:53:47.280330Z"
    }
   },
   "outputs": [],
   "source": [
    "Training_accuracy = []\n",
    "Test_accuracy = []\n"
   ]
  },
  {
   "cell_type": "code",
   "execution_count": null,
   "id": "16625f8b",
   "metadata": {
    "ExecuteTime": {
     "end_time": "2023-03-14T08:53:47.282445Z",
     "start_time": "2023-03-14T08:53:47.282445Z"
    }
   },
   "outputs": [],
   "source": [
    "for i in range(1,10):\n",
    "    classifier = RandomForestClassifier(max_depth=i,criterion=\"entropy\") \n",
    "    regressor.fit(x_train,y_train)\n",
    "    Y_pred_train = regressor.predict(x_train)\n",
    "    Y_pred_test = regressor.predict(x_test)\n",
    "    Training_accuracy.append(accuracy_score(y_train,Y_pred_train))\n",
    "    Test_accuracy.append(accuracy_score(y_test,Y_pred_test))\n"
   ]
  },
  {
   "cell_type": "code",
   "execution_count": 257,
   "id": "4356b1d8",
   "metadata": {
    "ExecuteTime": {
     "end_time": "2023-03-14T08:56:56.014416Z",
     "start_time": "2023-03-14T08:56:55.990171Z"
    }
   },
   "outputs": [
    {
     "data": {
      "text/html": [
       "<div>\n",
       "<style scoped>\n",
       "    .dataframe tbody tr th:only-of-type {\n",
       "        vertical-align: middle;\n",
       "    }\n",
       "\n",
       "    .dataframe tbody tr th {\n",
       "        vertical-align: top;\n",
       "    }\n",
       "\n",
       "    .dataframe thead th {\n",
       "        text-align: right;\n",
       "    }\n",
       "</style>\n",
       "<table border=\"1\" class=\"dataframe\">\n",
       "  <thead>\n",
       "    <tr style=\"text-align: right;\">\n",
       "      <th></th>\n",
       "      <th>0</th>\n",
       "      <th>0</th>\n",
       "      <th>0</th>\n",
       "    </tr>\n",
       "  </thead>\n",
       "  <tbody>\n",
       "    <tr>\n",
       "      <th>0</th>\n",
       "      <td>1.0</td>\n",
       "      <td>0.520833</td>\n",
       "      <td>0.48125</td>\n",
       "    </tr>\n",
       "    <tr>\n",
       "      <th>1</th>\n",
       "      <td>2.0</td>\n",
       "      <td>0.625000</td>\n",
       "      <td>0.53750</td>\n",
       "    </tr>\n",
       "    <tr>\n",
       "      <th>2</th>\n",
       "      <td>3.0</td>\n",
       "      <td>0.708333</td>\n",
       "      <td>0.56250</td>\n",
       "    </tr>\n",
       "    <tr>\n",
       "      <th>3</th>\n",
       "      <td>4.0</td>\n",
       "      <td>0.783333</td>\n",
       "      <td>0.60000</td>\n",
       "    </tr>\n",
       "    <tr>\n",
       "      <th>4</th>\n",
       "      <td>5.0</td>\n",
       "      <td>0.845833</td>\n",
       "      <td>0.59375</td>\n",
       "    </tr>\n",
       "    <tr>\n",
       "      <th>5</th>\n",
       "      <td>6.0</td>\n",
       "      <td>0.950000</td>\n",
       "      <td>0.58750</td>\n",
       "    </tr>\n",
       "    <tr>\n",
       "      <th>6</th>\n",
       "      <td>7.0</td>\n",
       "      <td>0.991667</td>\n",
       "      <td>0.61250</td>\n",
       "    </tr>\n",
       "    <tr>\n",
       "      <th>7</th>\n",
       "      <td>8.0</td>\n",
       "      <td>1.000000</td>\n",
       "      <td>0.56875</td>\n",
       "    </tr>\n",
       "    <tr>\n",
       "      <th>8</th>\n",
       "      <td>9.0</td>\n",
       "      <td>1.000000</td>\n",
       "      <td>0.60000</td>\n",
       "    </tr>\n",
       "    <tr>\n",
       "      <th>9</th>\n",
       "      <td>NaN</td>\n",
       "      <td>1.000000</td>\n",
       "      <td>0.60625</td>\n",
       "    </tr>\n",
       "    <tr>\n",
       "      <th>10</th>\n",
       "      <td>NaN</td>\n",
       "      <td>1.000000</td>\n",
       "      <td>0.58750</td>\n",
       "    </tr>\n",
       "    <tr>\n",
       "      <th>11</th>\n",
       "      <td>NaN</td>\n",
       "      <td>1.000000</td>\n",
       "      <td>0.61250</td>\n",
       "    </tr>\n",
       "    <tr>\n",
       "      <th>12</th>\n",
       "      <td>NaN</td>\n",
       "      <td>1.000000</td>\n",
       "      <td>0.58750</td>\n",
       "    </tr>\n",
       "    <tr>\n",
       "      <th>13</th>\n",
       "      <td>NaN</td>\n",
       "      <td>1.000000</td>\n",
       "      <td>0.58125</td>\n",
       "    </tr>\n",
       "    <tr>\n",
       "      <th>14</th>\n",
       "      <td>NaN</td>\n",
       "      <td>1.000000</td>\n",
       "      <td>0.58125</td>\n",
       "    </tr>\n",
       "    <tr>\n",
       "      <th>15</th>\n",
       "      <td>NaN</td>\n",
       "      <td>1.000000</td>\n",
       "      <td>0.60000</td>\n",
       "    </tr>\n",
       "    <tr>\n",
       "      <th>16</th>\n",
       "      <td>NaN</td>\n",
       "      <td>1.000000</td>\n",
       "      <td>0.59375</td>\n",
       "    </tr>\n",
       "    <tr>\n",
       "      <th>17</th>\n",
       "      <td>NaN</td>\n",
       "      <td>1.000000</td>\n",
       "      <td>0.58750</td>\n",
       "    </tr>\n",
       "    <tr>\n",
       "      <th>18</th>\n",
       "      <td>NaN</td>\n",
       "      <td>1.000000</td>\n",
       "      <td>0.57500</td>\n",
       "    </tr>\n",
       "    <tr>\n",
       "      <th>19</th>\n",
       "      <td>NaN</td>\n",
       "      <td>1.000000</td>\n",
       "      <td>0.59375</td>\n",
       "    </tr>\n",
       "    <tr>\n",
       "      <th>20</th>\n",
       "      <td>NaN</td>\n",
       "      <td>1.000000</td>\n",
       "      <td>0.58125</td>\n",
       "    </tr>\n",
       "    <tr>\n",
       "      <th>21</th>\n",
       "      <td>NaN</td>\n",
       "      <td>1.000000</td>\n",
       "      <td>0.60625</td>\n",
       "    </tr>\n",
       "    <tr>\n",
       "      <th>22</th>\n",
       "      <td>NaN</td>\n",
       "      <td>1.000000</td>\n",
       "      <td>0.61250</td>\n",
       "    </tr>\n",
       "    <tr>\n",
       "      <th>23</th>\n",
       "      <td>NaN</td>\n",
       "      <td>1.000000</td>\n",
       "      <td>0.58125</td>\n",
       "    </tr>\n",
       "    <tr>\n",
       "      <th>24</th>\n",
       "      <td>NaN</td>\n",
       "      <td>1.000000</td>\n",
       "      <td>0.57500</td>\n",
       "    </tr>\n",
       "    <tr>\n",
       "      <th>25</th>\n",
       "      <td>NaN</td>\n",
       "      <td>1.000000</td>\n",
       "      <td>0.61875</td>\n",
       "    </tr>\n",
       "    <tr>\n",
       "      <th>26</th>\n",
       "      <td>NaN</td>\n",
       "      <td>1.000000</td>\n",
       "      <td>0.56250</td>\n",
       "    </tr>\n",
       "    <tr>\n",
       "      <th>27</th>\n",
       "      <td>NaN</td>\n",
       "      <td>1.000000</td>\n",
       "      <td>0.59375</td>\n",
       "    </tr>\n",
       "    <tr>\n",
       "      <th>28</th>\n",
       "      <td>NaN</td>\n",
       "      <td>1.000000</td>\n",
       "      <td>0.57500</td>\n",
       "    </tr>\n",
       "    <tr>\n",
       "      <th>29</th>\n",
       "      <td>NaN</td>\n",
       "      <td>1.000000</td>\n",
       "      <td>0.60625</td>\n",
       "    </tr>\n",
       "    <tr>\n",
       "      <th>30</th>\n",
       "      <td>NaN</td>\n",
       "      <td>1.000000</td>\n",
       "      <td>0.60000</td>\n",
       "    </tr>\n",
       "  </tbody>\n",
       "</table>\n",
       "</div>"
      ],
      "text/plain": [
       "      0         0        0\n",
       "0   1.0  0.520833  0.48125\n",
       "1   2.0  0.625000  0.53750\n",
       "2   3.0  0.708333  0.56250\n",
       "3   4.0  0.783333  0.60000\n",
       "4   5.0  0.845833  0.59375\n",
       "5   6.0  0.950000  0.58750\n",
       "6   7.0  0.991667  0.61250\n",
       "7   8.0  1.000000  0.56875\n",
       "8   9.0  1.000000  0.60000\n",
       "9   NaN  1.000000  0.60625\n",
       "10  NaN  1.000000  0.58750\n",
       "11  NaN  1.000000  0.61250\n",
       "12  NaN  1.000000  0.58750\n",
       "13  NaN  1.000000  0.58125\n",
       "14  NaN  1.000000  0.58125\n",
       "15  NaN  1.000000  0.60000\n",
       "16  NaN  1.000000  0.59375\n",
       "17  NaN  1.000000  0.58750\n",
       "18  NaN  1.000000  0.57500\n",
       "19  NaN  1.000000  0.59375\n",
       "20  NaN  1.000000  0.58125\n",
       "21  NaN  1.000000  0.60625\n",
       "22  NaN  1.000000  0.61250\n",
       "23  NaN  1.000000  0.58125\n",
       "24  NaN  1.000000  0.57500\n",
       "25  NaN  1.000000  0.61875\n",
       "26  NaN  1.000000  0.56250\n",
       "27  NaN  1.000000  0.59375\n",
       "28  NaN  1.000000  0.57500\n",
       "29  NaN  1.000000  0.60625\n",
       "30  NaN  1.000000  0.60000"
      ]
     },
     "execution_count": 257,
     "metadata": {},
     "output_type": "execute_result"
    }
   ],
   "source": [
    "\n",
    "pd.DataFrame(Training_accuracy)\n",
    "pd.DataFrame(Test_accuracy)\n",
    "pd.concat([pd.DataFrame(range(1,10)) ,pd.DataFrame(Training_accuracy),pd.DataFrame(Test_accuracy)],axis=1)    \n"
   ]
  },
  {
   "cell_type": "code",
   "execution_count": null,
   "id": "9e6a1aa2",
   "metadata": {},
   "outputs": [],
   "source": []
  }
 ],
 "metadata": {
  "kernelspec": {
   "display_name": "Python 3 (ipykernel)",
   "language": "python",
   "name": "python3"
  },
  "language_info": {
   "codemirror_mode": {
    "name": "ipython",
    "version": 3
   },
   "file_extension": ".py",
   "mimetype": "text/x-python",
   "name": "python",
   "nbconvert_exporter": "python",
   "pygments_lexer": "ipython3",
   "version": "3.9.12"
  }
 },
 "nbformat": 4,
 "nbformat_minor": 5
}
